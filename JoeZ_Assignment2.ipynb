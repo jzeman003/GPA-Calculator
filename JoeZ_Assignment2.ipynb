{
  "nbformat": 4,
  "nbformat_minor": 0,
  "metadata": {
    "colab": {
      "provenance": [],
      "authorship_tag": "ABX9TyM5WV3JQJlbVvevZGSFP3/F",
      "include_colab_link": true
    },
    "kernelspec": {
      "name": "python3",
      "display_name": "Python 3"
    },
    "language_info": {
      "name": "python"
    }
  },
  "cells": [
    {
      "cell_type": "markdown",
      "metadata": {
        "id": "view-in-github",
        "colab_type": "text"
      },
      "source": [
        "<a href=\"https://colab.research.google.com/github/jzeman003/GPA-Calculator/blob/main/JoeZ_Assignment2.ipynb\" target=\"_parent\"><img src=\"https://colab.research.google.com/assets/colab-badge.svg\" alt=\"Open In Colab\"/></a>"
      ]
    },
    {
      "cell_type": "code",
      "execution_count": null,
      "metadata": {
        "id": "QadsQj0fdHau"
      },
      "outputs": [],
      "source": [
        "%%capture\n",
        "!pip install gradio\n",
        "!pip install huggingface_hub"
      ]
    },
    {
      "cell_type": "code",
      "source": [
        "#This is a GPA calculator that allows you to enter grades for all your classes and the total number of hours to estimate your GPA.\n",
        "\n",
        "def saveData(grade, credit_hours, gpa):\n",
        "  import csv\n",
        "  with open('/content/drive/MyDrive/IT-164/GPA.csv', 'a') as f:\n",
        "    w=csv.writer(f)\n",
        "    w.writerow([grade, credit_hours, gpa])\n",
        "\n",
        "import gradio as gr\n",
        "\n",
        "def calculate_gpa(grades, credit_hours):\n",
        "    grade_points = {\n",
        "        \"A\": 4.0,\n",
        "        \"B\": 3.0,\n",
        "        \"C\": 2.0,\n",
        "        \"D\": 1.0,\n",
        "        \"F\": 0.0\n",
        "    }\n",
        "    credit_hours = [credit_hours]*len(grades)\n",
        "\n",
        "    total_grade_points = 0\n",
        "    total_credit_hours = 0\n",
        "\n",
        "    for grade, credit in zip(grades, credit_hours):\n",
        "        if grade not in grade_points:\n",
        "            return \"Invalid grade entered. Please use A, B, C, D, or F.\"\n",
        "        total_grade_points += grade_points[grade] * credit\n",
        "        total_credit_hours += credit\n",
        "\n",
        "    if total_credit_hours == 0:\n",
        "        return \"Total credit hours cannot be zero.\"\n",
        "\n",
        "    gpa = total_grade_points / total_credit_hours\n",
        "    return round(gpa, 2)\n",
        "\n",
        "def gpa_calculator(grades, credit_hours):\n",
        "    return calculate_gpa(grades, credit_hours)\n",
        "\n",
        "def create_interface():\n",
        "    grade_input = gr.Dropdown(choices=[\"A\", \"B\", \"C\", \"D\", \"F\"], label=\"Grade\", multiselect=True)\n",
        "\n",
        "    credit_input = gr.Number(label=\"Credit Hours\", value=3)\n",
        "\n",
        "    output = gr.Textbox(label=\"Your GPA\")\n",
        "\n",
        "    iface = gr.Interface(\n",
        "        fn=gpa_calculator,\n",
        "        inputs=[grade_input, credit_input],\n",
        "        outputs=output,\n",
        "        live=True,\n",
        "        title=\"GPA Calculator\",\n",
        "        description=\"Enter your course grades and credit hours to calculate your estimated GPA.\"\n",
        "    )\n",
        "\n",
        "    iface.launch()\n",
        "\n",
        "create_interface()"
      ],
      "metadata": {
        "id": "r_-boS_0fkYc",
        "colab": {
          "base_uri": "https://localhost:8080/",
          "height": 648
        },
        "outputId": "93eceec9-2e2e-4d92-c6a5-b486ba60c6ab"
      },
      "execution_count": 5,
      "outputs": [
        {
          "output_type": "stream",
          "name": "stdout",
          "text": [
            "Running Gradio in a Colab notebook requires sharing enabled. Automatically setting `share=True` (you can turn this off by setting `share=False` in `launch()` explicitly).\n",
            "\n",
            "Colab notebook detected. To show errors in colab notebook, set debug=True in launch()\n",
            "* Running on public URL: https://5fb4acdf3893ef5269.gradio.live\n",
            "\n",
            "This share link expires in 72 hours. For free permanent hosting and GPU upgrades, run `gradio deploy` from the terminal in the working directory to deploy to Hugging Face Spaces (https://huggingface.co/spaces)\n"
          ]
        },
        {
          "output_type": "display_data",
          "data": {
            "text/plain": [
              "<IPython.core.display.HTML object>"
            ],
            "text/html": [
              "<div><iframe src=\"https://5fb4acdf3893ef5269.gradio.live\" width=\"100%\" height=\"500\" allow=\"autoplay; camera; microphone; clipboard-read; clipboard-write;\" frameborder=\"0\" allowfullscreen></iframe></div>"
            ]
          },
          "metadata": {}
        }
      ]
    }
  ]
}